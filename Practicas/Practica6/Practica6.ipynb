{
 "cells": [
  {
   "cell_type": "code",
   "execution_count": 16,
   "metadata": {},
   "outputs": [],
   "source": [
    "import numpy as np\n",
    "import cv2\n",
    "from matplotlib import pyplot as plt\n"
   ]
  },
  {
   "cell_type": "code",
   "execution_count": 10,
   "metadata": {},
   "outputs": [],
   "source": [
    "np.set_printoptions(formatter={'float': '{: 0.3f}'.format})\n",
    "\n",
    "def dlt(originals, correspondence):  ## numpy arrays of the same size\n",
    "    points_number = np.shape(originals)[0];\n",
    "    ## o =  orignals\n",
    "    ## c = correspondence\n",
    "    o_centroid = np.mean(originals, axis=0)\n",
    "    c_centroid = np.mean(correspondence, axis=0)\n",
    "    \n",
    "    o_centered = originals - np.tile(o_centroid, (points_number,1))\n",
    "    c_centered = correspondence - np.tile(c_centroid, (points_number,1))\n",
    "    \n",
    "    o_norms = np.linalg.norm(o_centered, axis=1)\n",
    "    c_norms = np.linalg.norm(c_centered, axis=1)                                           \n",
    "    \n",
    "    o_distance = np.mean(o_norms)\n",
    "    c_distance = np.mean(c_norms)\n",
    "                                          \n",
    "    o_scale = np.sqrt(2)/o_distance\n",
    "    c_scale = np.sqrt(2)/c_distance\n",
    "    \n",
    "    H_sim_prim = np.array([[c_scale,0      ,-c_centroid[0]*c_scale],\n",
    "                          [0      ,c_scale,-c_centroid[1]*c_scale],\n",
    "                          [0      ,0      ,1]])\n",
    "\n",
    "    \n",
    "    H_sim = np.array([[o_scale,0      ,-o_centroid[0]*o_scale],\n",
    "                      [0      ,o_scale,-o_centroid[1]*o_scale],\n",
    "                      [0      ,0      ,1]])\n",
    "    \n",
    "    o_homologous = np.transpose(H_sim @ np.transpose(originals))\n",
    "    c_homologous = np.transpose(H_sim_prim @ np.transpose(correspondence))\n",
    "\n",
    "    H_sim_prim = np.linalg.inv(H_sim_prim)\n",
    "                                             \n",
    "    A = np.zeros((points_number*2,9))\n",
    "\n",
    "    zerot = np.array([0,0,0])\n",
    "\n",
    "    for i in range(0, points_number):\n",
    "        xt = o_homologous[i, :]\n",
    "        \n",
    "        wixt = c_homologous[i,2] * xt\n",
    "        yixt = c_homologous[i,1] * xt\n",
    "        xixt = c_homologous[i,0] * xt\n",
    "        A[2*i,:] = np.concatenate((zerot, -wixt, yixt))\n",
    "        A[2*i + 1,:] = np.concatenate((wixt, zerot, -xixt))\n",
    "    (u,d,v) = np.linalg.svd(A)\n",
    "    \n",
    "    H = np.reshape(v[-1, :], (3,3))\n",
    "    H = np.dot(H, H_sim)\n",
    "    H = np.dot(H_sim_prim, H)\n",
    "    \n",
    "    return H"
   ]
  },
  {
   "cell_type": "code",
   "execution_count": null,
   "metadata": {},
   "outputs": [],
   "source": [
    "img = cv2.imread('simple.jpg')\n",
    "gray = cv2.cvtColor(img,cv2.COLOR_BGR2GRAY)\n",
    "\n",
    "corners = cv2.goodFeaturesToTrack(gray,25,0.01,10)\n",
    "corners = np.int0(corners)\n",
    "\n",
    "for i in corners:\n",
    "    x,y = i.ravel()\n",
    "    cv2.circle(img,(x,y),3,255,-1)\n",
    "\n",
    "plt.imshow(img),plt.show()\n"
   ]
  },
  {
   "cell_type": "code",
   "execution_count": 15,
   "metadata": {},
   "outputs": [],
   "source": [
    "alphas = {0.9: 4.605, 0.95:5.991, 0.99:9.210}\n",
    "desvios = [1, 0.5, 1.5]\n",
    "t_estandar = alphas[0.95]*desvios[1]\n",
    "sample_size = 2\n",
    "#points is a np.ndarray\n",
    "\n",
    "def create_homografic(originals, correspondences):\n",
    "    ab_ind = np.random.choice(originals.shape[0], size = 2, replace = False) \n",
    "    a_ind = ab_ind[0]\n",
    "    b_ind = ab_ind[1]\n",
    "    colineal = True\n",
    "    a = originals[a_ind,:]\n",
    "    b = originals[b_ind,:]\n",
    "    ab = np.cross(a,b)\n",
    "    c = a\n",
    "    c_ind = a_ind\n",
    "    while np.cross(ab, c) == 0:\n",
    "        c_ind = np.random.choice(originals.shape[0])\n",
    "        c = originals[c_ind, :]\n",
    "    ac = np.cross(a,c)\n",
    "    bc = np.cross(b,c)\n",
    "    d = a\n",
    "    d_ind = a_ind\n",
    "    while np.cross(ab, d) == 0 or np.cross(bc, d) == 0 or np.cross(ac, d) == 0:\n",
    "        d_ind = np.random.choice(originals.shape[0])\n",
    "        d = originals[d_ind, :]\n",
    "        \n",
    "    return dlt(originals[[a_ind, b_ind, c_ind, d_ind]], correspondences[[a_ind, b_ind, c_ind, d_ind]])\n",
    "\n",
    "    \n",
    "    \n",
    "def d_trans(H, original, correspondence):\n",
    "    inverse = np.linalg.inv(H)\n",
    "    d = np.linalg.norm(original, inverse @ correspondence)**2\n",
    "    d += np.linalg.norm(correspondence, H @ original)\n",
    "    \n",
    "    return d\n",
    "\n",
    "def ransac(originals, correspondences):\n",
    "    t = 5.991 #desvio es 1\n",
    "    n = 11 #outliers = 40%\n",
    "    stoping_size = len(point)*0.6\n",
    "    sample_size = 2\n",
    "    H = np.array([])\n",
    "    support = []\n",
    "    points_idx = list(range(points.shape()[0]))\n",
    "    \n",
    "    for i in range(n):\n",
    "        H_aux = create_homografic(originals, correspondences)\n",
    "        cant = 0\n",
    "        suport_aux = []\n",
    "        for j in range(points.shape()[0]):\n",
    "            distance = d_trans(H_aux, originals[j,:], correspondencess[j,:])\n",
    "            if distance <= t:\n",
    "                support_aux.append(j)\n",
    "        if len(support) < len(support_aux):\n",
    "                support = support_aux\n",
    "                H = H_aux\n",
    "        if cant >= stoping_size:\n",
    "            break\n",
    "\n",
    "    H_big = dlt(originals[support], correspondences[support])\n",
    "    \n",
    "    return H_big"
   ]
  },
  {
   "cell_type": "code",
   "execution_count": 9,
   "metadata": {},
   "outputs": [
    {
     "data": {
      "text/plain": [
       "array([[1, 2, 4],\n",
       "       [1, 2, 5]])"
      ]
     },
     "execution_count": 9,
     "metadata": {},
     "output_type": "execute_result"
    }
   ],
   "source": [
    "aux[[1,2]]"
   ]
  },
  {
   "cell_type": "code",
   "execution_count": null,
   "metadata": {},
   "outputs": [],
   "source": []
  }
 ],
 "metadata": {
  "kernelspec": {
   "display_name": "Python 3",
   "language": "python",
   "name": "python3"
  },
  "language_info": {
   "codemirror_mode": {
    "name": "ipython",
    "version": 3
   },
   "file_extension": ".py",
   "mimetype": "text/x-python",
   "name": "python",
   "nbconvert_exporter": "python",
   "pygments_lexer": "ipython3",
   "version": "3.6.6"
  }
 },
 "nbformat": 4,
 "nbformat_minor": 2
}
