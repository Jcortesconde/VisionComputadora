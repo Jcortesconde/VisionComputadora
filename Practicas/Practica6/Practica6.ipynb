{
 "cells": [
  {
   "cell_type": "code",
   "execution_count": 1,
   "metadata": {},
   "outputs": [],
   "source": [
    "import numpy as np"
   ]
  },
  {
   "cell_type": "code",
   "execution_count": null,
   "metadata": {},
   "outputs": [],
   "source": [
    "alphas = {0.9: 4.605, 0.95:5.991, 0.99:9.210}\n",
    "desvios = [1, 0.5, 1.5]\n",
    "t_estandar = alphas[0.95]*devios[1]\n",
    "sample_size = 2\n",
    "#points is a np.ndarray\n",
    "\n",
    "def create_homografic(originals, correspondences):\n",
    "    ab_ind = np.random.choice(originals.shape[0], size = 2, replace = False) \n",
    "    a_ind = ab_ind[0]\n",
    "    b_ind = ab_ind[1]\n",
    "    colineal = True\n",
    "    a = originals[a_ind,:]\n",
    "    b = originals[b_ind,:]\n",
    "    ab = np.cross(a,b)\n",
    "    c = a\n",
    "    c_ind = a_ind\n",
    "    while np.cross(ab, c) == 0:\n",
    "        c_ind = np.random.choice(originals.shape[0])\n",
    "        c = originals[c_ind, :]\n",
    "    ac = np.cross(a,c)\n",
    "    bc = np.cross(b,c)\n",
    "    d = a\n",
    "    d_ind = a_ind\n",
    "    while np.cross(ab, d) == 0 || np.cross(bc, d) == 0 || np.cross(ac, d) == 0:\n",
    "        d_ind = np.random.choice(originals.shape[0])\n",
    "        d = originals[d_ind, :]\n",
    "        \n",
    "    return dlt(originals[[a_ind, b_ind, c_ind, d_ind]], correspondences[[a_ind, b_ind, c_ind, d_ind]])\n",
    "\n",
    "    \n",
    "    \n",
    "def d_trans(H, original, correspondence):\n",
    "    inverse = np.linalg.inv(H)\n",
    "    d = np.linalg.norm(original, inverse @ correspondence)**2\n",
    "    d += np.linalg.norm(correspondence, H @ original)\n",
    "    \n",
    "    return d\n",
    "\n",
    "def ransac(originals, correspondences):\n",
    "    t = 5.991 #desvio es 1\n",
    "    n = 11 #outliers = 40%\n",
    "    stoping_size = len(point)*0.6\n",
    "    sample_size = 2\n",
    "    H = np.array([])\n",
    "    support = []\n",
    "    points_idx = list(range(points.shape()[0])\n",
    "    \n",
    "    for i in range(n):\n",
    "        H_aux = create_homografic(originals, correspondences)\n",
    "        cant = 0\n",
    "        suport_aux = []\n",
    "        for j in range(points.shape()[0]:\n",
    "            distance = d_trans(H_aux, originals[j,:], correspondencess[j,:])\n",
    "            if distance <= t:\n",
    "                support_aux.append(j)\n",
    "        if len(support) < len(support_aux):\n",
    "                support = support_aux\n",
    "                H = H_aux\n",
    "        if cant >= stoping_size:\n",
    "            break\n",
    "\n",
    "    H_big = dlt(originals[support], correspondences[support])\n",
    "    \n",
    "    return H_big"
   ]
  },
  {
   "cell_type": "code",
   "execution_count": 8,
   "metadata": {},
   "outputs": [],
   "source": [
    "aux = np.array([[1,2,3],[1,2,4], [1,2,5],[1,2,6],[1,2,7]])"
   ]
  },
  {
   "cell_type": "code",
   "execution_count": 9,
   "metadata": {},
   "outputs": [
    {
     "data": {
      "text/plain": [
       "array([[1, 2, 4],\n",
       "       [1, 2, 5]])"
      ]
     },
     "execution_count": 9,
     "metadata": {},
     "output_type": "execute_result"
    }
   ],
   "source": [
    "aux[[1,2]]"
   ]
  },
  {
   "cell_type": "code",
   "execution_count": null,
   "metadata": {},
   "outputs": [],
   "source": []
  }
 ],
 "metadata": {
  "kernelspec": {
   "display_name": "Python 3",
   "language": "python",
   "name": "python3"
  },
  "language_info": {
   "codemirror_mode": {
    "name": "ipython",
    "version": 3
   },
   "file_extension": ".py",
   "mimetype": "text/x-python",
   "name": "python",
   "nbconvert_exporter": "python",
   "pygments_lexer": "ipython3",
   "version": "3.6.6"
  }
 },
 "nbformat": 4,
 "nbformat_minor": 2
}
