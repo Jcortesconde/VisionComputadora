{
 "cells": [
  {
   "cell_type": "markdown",
   "metadata": {},
   "source": [
    "## DLT"
   ]
  },
  {
   "cell_type": "code",
   "execution_count": 21,
   "metadata": {},
   "outputs": [],
   "source": [
    "import numpy as np"
   ]
  },
  {
   "cell_type": "code",
   "execution_count": 66,
   "metadata": {},
   "outputs": [],
   "source": [
    "np.set_printoptions(formatter={'float': '{: 0.3f}'.format})\n",
    "\n",
    "def dlt(originals, correspondence):  ## numpy arrays of the same size\n",
    "    traslation = 0\n",
    "    scale = 0\n",
    "    \n",
    "    points_number = np.shape(originals)[0];\n",
    "    ## o =  orignals\n",
    "    ## c = correspondence\n",
    "    o_centroid = np.mean(originals, axis=0)\n",
    "    c_centroid = np.mean(originals, axis=0)\n",
    "    \n",
    "    o_centered = originals - np.tile(o_centroid, (points_number,1))\n",
    "    c_centered = correspondence - np.tile(c_centroid, (points_number,1))\n",
    "    \n",
    "    o_norms = np.linalg.norm(o_centered, axis=1)\n",
    "    c_norms = np.linalg.norm(c_centered, axis=1)                                              \n",
    "    \n",
    "    o_distance = np.sum(o_norms)/points_number\n",
    "    c_distance = np.sum(c_norms)/points_number\n",
    "                                          \n",
    "    o_scale = np.sqrt(2)/o_distance\n",
    "    c_scale = np.sqrt(2)/c_distance\n",
    "                                          \n",
    "    o_homologous = o_scale * o_centered\n",
    "    c_homologous = c_scale * c_centered\n",
    "                                          \n",
    "    A = np.zeros((points_number*2,9))\n",
    "\n",
    "    zerot = np.array([0,0,0])\n",
    "\n",
    "    print(o_homologous)\n",
    "    print(c_homologous)\n",
    "    for i in range(0, points_number):\n",
    "        xt = o_homologous[i, :]\n",
    "        \n",
    "        wixt = c_homologous[i,2] * xt;\n",
    "        yixt = c_homologous[i,1] * xt;\n",
    "        xixt = c_homologous[i,0] * xt;\n",
    "\n",
    "        A[2*i,:] = np.concatenate((zerot, -wixt, yixt))\n",
    "        A[2*i + 1,:] = np.concatenate((wixt, zerot, -xixt))\n",
    "            \n",
    "    (u,d,v) = np.linalg.svd(A)\n",
    "    H = np.reshape(v[-1, :], (3,3))\n",
    "    return H"
   ]
  },
  {
   "cell_type": "code",
   "execution_count": 73,
   "metadata": {},
   "outputs": [
    {
     "name": "stdout",
     "output_type": "stream",
     "text": [
      "[[-2.029 -0.107 -0.214]\n",
      " [-0.961 -0.641  0.320]\n",
      " [ 1.708  0.961  0.320]\n",
      " [ 0.107  0.427 -0.214]\n",
      " [ 1.174 -0.641 -0.214]]\n",
      "[[-2.029 -0.107 -0.214]\n",
      " [-0.961 -0.641  0.320]\n",
      " [ 1.708  0.961  0.320]\n",
      " [ 0.107  0.427 -0.214]\n",
      " [ 1.174 -0.641 -0.214]]\n"
     ]
    },
    {
     "data": {
      "text/plain": [
       "array([ 0.577,  1.155,  0.577])"
      ]
     },
     "execution_count": 73,
     "metadata": {},
     "output_type": "execute_result"
    }
   ],
   "source": [
    "matrix = [[1, 2, 1],[3,1, 2],[8, 4, 2],[5,3,1],[7,1,1]]\n",
    "\n",
    "H = dlt(matrix, matrix)\n",
    "\n",
    "H @ np.array([1, 2, 1])"
   ]
  }
 ],
 "metadata": {
  "kernelspec": {
   "display_name": "Python 3",
   "language": "python",
   "name": "python3"
  },
  "language_info": {
   "codemirror_mode": {
    "name": "ipython",
    "version": 3
   },
   "file_extension": ".py",
   "mimetype": "text/x-python",
   "name": "python",
   "nbconvert_exporter": "python",
   "pygments_lexer": "ipython3",
   "version": "3.6.6"
  }
 },
 "nbformat": 4,
 "nbformat_minor": 2
}
