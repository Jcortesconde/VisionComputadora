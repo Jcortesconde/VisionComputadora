{
 "cells": [
  {
   "cell_type": "code",
   "execution_count": 1,
   "metadata": {},
   "outputs": [],
   "source": [
    "import numpy as np\n",
    "import cv2\n",
    "from matplotlib import pyplot as plt"
   ]
  },
  {
   "cell_type": "code",
   "execution_count": 2,
   "metadata": {},
   "outputs": [],
   "source": [
    "def extrinsic_calib(points, us):\n",
    "    points_number = np.shape(points)[0];\n",
    "    ## o =  orignals\n",
    "    ## c = correspondence\n",
    "    o_centroid = np.mean(points, axis=0)\n",
    "    c_centroid = np.mean(us, axis=0)\n",
    "    \n",
    "    o_centered = originals - np.tile(o_centroid, (points_number,1))\n",
    "    c_centered = correspondence - np.tile(c_centroid, (points_number,1))\n",
    "    \n",
    "    o_norms = np.linalg.norm(o_centered, axis=1)\n",
    "    c_norms = np.linalg.norm(c_centered, axis=1)                                           \n",
    "    \n",
    "    o_distance = np.mean(o_norms)\n",
    "    c_distance = np.mean(c_norms)\n",
    "                                          \n",
    "    o_scale = np.sqrt(2)/o_distance\n",
    "    c_scale = np.sqrt(2)/c_distance\n",
    "    \n",
    "    H_sim_prim = np.array([[c_scale,0      ,-c_centroid[0]*c_scale],\n",
    "                          [0      ,c_scale,-c_centroid[1]*c_scale],\n",
    "                          [0      ,0      ,1]])\n",
    "\n",
    "    \n",
    "    H_sim = np.array([[o_scale,0      ,-o_centroid[0]*o_scale],\n",
    "                      [0      ,o_scale,-o_centroid[1]*o_scale],\n",
    "                      [0      ,0      ,1]])\n",
    "    \n",
    "    points_norm = np.transpose(H_sim @ np.transpose(points))\n",
    "    us_norm = np.transpose(H_sim_prim @ np.transpose(us))\n",
    "\n",
    "    H_sim_prim = np.linalg.inv(H_sim_prim)\n",
    "                                             \n",
    "    A = np.zeros((points_number*2,9))\n",
    "\n",
    "    zerot = np.array([0,0,0])\n",
    "\n",
    "    for i in range(0, points_number):\n",
    "        point = points_nomr[i, :]\n",
    "        u = us_norm[i,:]\n",
    "        aux = np.ndarray([0, point[0], u[1]*point[0], 0, -point[1], u[1]*point[1], 0, -1, u[1]])\n",
    "        aux_one = np.ndarray([point[0], 0, -u[0]*point[0], point[1], 0, -u[0]*point[1], 1, 0, -u[0]])\n",
    "        A[2*i,:] = aux\n",
    "        A[2*i + 1,:] = aux_one\n",
    "    (u,d,vt) = np.linalg.svd(A)\n",
    "    H = np.reshape(vt[-1, :], (3,3))\n",
    "    H = np.dot(H, H_sim)\n",
    "    H = np.dot(H_sim_prim, H)\n",
    "    return H"
   ]
  },
  {
   "cell_type": "code",
   "execution_count": 11,
   "metadata": {},
   "outputs": [],
   "source": [
    "def centro_rotacion(Rs, Ts):\n",
    "    identis = np.zeros(np.shape(Rs))\n",
    "    for i in range(np.shape(Rs)[0]/3):\n",
    "        identis[i*3,:] = np.ndarray([1, 0, 0])\n",
    "        identis[i*3+1,:] = np.ndarray([0, 1, 0])\n",
    "        identis[i*3+2,:] = np.ndarray([0, 0, 1])    \n",
    "    sol = np.concatenate(Rs, identis)\n",
    "    sol = np.delete(sol, 2, 1)\n",
    "    \n",
    "    (u,s,vt) = np.linalg.svd(sol)\n",
    "    cs = np.dot(np.transpose(u), Ts)\n",
    "    ys = np.zeros((5, 1))\n",
    "    for i in range(5):\n",
    "        if s[i, i] != 0:\n",
    "            ys[i] = cs[i]/s[i,i]\n",
    "    xs = np.dot(np.transpose(vt), ys)\n",
    "    q = np.ndarray([xs[0], xs[1], 0])\n",
    "    Q = xs[2:]\n",
    "    return (q, Q)\n",
    "        \n",
    "    "
   ]
  },
  {
   "cell_type": "code",
   "execution_count": 10,
   "metadata": {},
   "outputs": [
    {
     "data": {
      "text/plain": [
       "array([0., 1., 0.])"
      ]
     },
     "execution_count": 10,
     "metadata": {},
     "output_type": "execute_result"
    }
   ],
   "source": [
    "np.identity(3)[1,0:]"
   ]
  },
  {
   "cell_type": "code",
   "execution_count": 7,
   "metadata": {},
   "outputs": [
    {
     "data": {
      "text/plain": [
       "array([[0., 0.],\n",
       "       [0., 0.],\n",
       "       [0., 0.],\n",
       "       [0., 0.],\n",
       "       [0., 0.],\n",
       "       [0., 0.]])"
      ]
     },
     "execution_count": 7,
     "metadata": {},
     "output_type": "execute_result"
    }
   ],
   "source": [
    "aux = np.zeros((6,3))\n",
    "np.delete(aux,1,1)"
   ]
  },
  {
   "cell_type": "code",
   "execution_count": null,
   "metadata": {},
   "outputs": [],
   "source": []
  }
 ],
 "metadata": {
  "kernelspec": {
   "display_name": "Python 3",
   "language": "python",
   "name": "python3"
  },
  "language_info": {
   "codemirror_mode": {
    "name": "ipython",
    "version": 3
   },
   "file_extension": ".py",
   "mimetype": "text/x-python",
   "name": "python",
   "nbconvert_exporter": "python",
   "pygments_lexer": "ipython3",
   "version": "3.6.6"
  }
 },
 "nbformat": 4,
 "nbformat_minor": 2
}
